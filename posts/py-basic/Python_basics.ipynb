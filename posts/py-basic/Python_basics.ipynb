{
  "nbformat": 4,
  "nbformat_minor": 0,
  "metadata": {
    "colab": {
      "provenance": []
    },
    "kernelspec": {
      "name": "python3",
      "display_name": "Python 3"
    },
    "language_info": {
      "name": "python"
    }
  },
  "cells": [
    {
      "cell_type": "markdown",
      "source": [
        "---\n",
        "title: Python Basics\n",
        "author: Jake Nielsen\n",
        "date: 2025-02-18\n",
        "categories: [Python, Programming] # tags for a blog post (e.g., python)\n",
        "image: \"/Users/jakenielsen/Desktop/danl210/JakeNielsen18.github.io/pphoto.jpeg\"\n",
        "\n",
        "toc: true\n",
        "---"
      ],
      "metadata": {
        "id": "Y-hediRIGqhO"
      }
    },
    {
      "cell_type": "code",
      "source": [
        "Tuple = (1,2,3,4,5)\n",
        "List = [1,2,3,4,5]\n",
        "dictionary = {'a': 1, 'b': 2, 'c': 3}\n",
        "\n",
        "#built in functions\n",
        "len(List)\n",
        "sum(List)\n",
        "max(List)\n",
        "min(List)\n",
        "\n",
        "#while loops\n",
        "\n",
        "k=0\n",
        "while k < 10:\n",
        "  k=k+1\n",
        "  print(k)\n",
        "\n",
        "for i in \"hello\":\n",
        "  print(i)\n",
        "\n",
        "\n"
      ],
      "metadata": {
        "colab": {
          "base_uri": "https://localhost:8080/"
        },
        "id": "mPst8yHIGz6S",
        "outputId": "5ceda115-7957-41c0-b6fe-786fc4378f71"
      },
      "execution_count": 5,
      "outputs": [
        {
          "output_type": "stream",
          "name": "stdout",
          "text": [
            "1\n",
            "2\n",
            "3\n",
            "4\n",
            "5\n",
            "6\n",
            "7\n",
            "8\n",
            "9\n",
            "10\n",
            "h\n",
            "e\n",
            "l\n",
            "l\n",
            "o\n"
          ]
        }
      ]
    }
  ]
}